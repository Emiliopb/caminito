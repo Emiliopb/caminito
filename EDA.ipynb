#Aqui haremos el eda de los datos que salgan de Data pre pro

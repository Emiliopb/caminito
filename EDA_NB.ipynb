{
 "cells": [
  {
   "cell_type": "markdown",
   "id": "e9824e4d",
   "metadata": {},
   "source": [
    "# Notebook de Exploratory Data Analysis \n",
    "\n",
    "En este notebook haremos las primeras graficas de los datos\n"
   ]
  },
  {
   "cell_type": "markdown",
   "id": "00185dbc",
   "metadata": {},
   "source": [
    "## Importamos todas las librerias que utilizaremos para explorar y visualizar "
   ]
  },
  {
   "cell_type": "code",
   "execution_count": 30,
   "id": "4fb23e53",
   "metadata": {},
   "outputs": [],
   "source": [
    "import pandas as pd "
   ]
  },
  {
   "cell_type": "markdown",
   "id": "e46c3a75",
   "metadata": {},
   "source": [
    "## Ordenamos los datos"
   ]
  },
  {
   "cell_type": "code",
   "execution_count": 3,
   "id": "4bc61d26",
   "metadata": {},
   "outputs": [],
   "source": [
    "entries = pd.read_csv('Treated_csv/entries_all.csv')"
   ]
  },
  {
   "cell_type": "code",
   "execution_count": 31,
   "id": "6a439647",
   "metadata": {},
   "outputs": [
    {
     "data": {
      "text/html": [
       "<div>\n",
       "<style scoped>\n",
       "    .dataframe tbody tr th:only-of-type {\n",
       "        vertical-align: middle;\n",
       "    }\n",
       "\n",
       "    .dataframe tbody tr th {\n",
       "        vertical-align: top;\n",
       "    }\n",
       "\n",
       "    .dataframe thead th {\n",
       "        text-align: right;\n",
       "    }\n",
       "</style>\n",
       "<table border=\"1\" class=\"dataframe\">\n",
       "  <thead>\n",
       "    <tr style=\"text-align: right;\">\n",
       "      <th></th>\n",
       "      <th>Entrada</th>\n",
       "      <th>Fecha</th>\n",
       "      <th>Sexo</th>\n",
       "      <th>Edad</th>\n",
       "      <th>Continente</th>\n",
       "      <th>Pais</th>\n",
       "      <th>Autonomia</th>\n",
       "      <th>Medio</th>\n",
       "      <th>Motivo</th>\n",
       "      <th>Camino</th>\n",
       "      <th>Origen</th>\n",
       "      <th>Profesion</th>\n",
       "    </tr>\n",
       "  </thead>\n",
       "  <tbody>\n",
       "    <tr>\n",
       "      <th>0</th>\n",
       "      <td>2010-01/0001-01</td>\n",
       "      <td>2010-01-01</td>\n",
       "      <td>M</td>\n",
       "      <td>58</td>\n",
       "      <td>Europa</td>\n",
       "      <td>España</td>\n",
       "      <td>Cantabria</td>\n",
       "      <td>Bicicleta</td>\n",
       "      <td>Religioso</td>\n",
       "      <td>Norte-Camino de</td>\n",
       "      <td>Resto Cantabria</td>\n",
       "      <td>Jubilados</td>\n",
       "    </tr>\n",
       "    <tr>\n",
       "      <th>1</th>\n",
       "      <td>2010-01/0001-02</td>\n",
       "      <td>2010-01-01</td>\n",
       "      <td>M</td>\n",
       "      <td>62</td>\n",
       "      <td>Europa</td>\n",
       "      <td>España</td>\n",
       "      <td>La Rioja</td>\n",
       "      <td>Pie</td>\n",
       "      <td>Religioso</td>\n",
       "      <td>Frances-Camino de</td>\n",
       "      <td>Sarria</td>\n",
       "      <td>Jubilados</td>\n",
       "    </tr>\n",
       "    <tr>\n",
       "      <th>2</th>\n",
       "      <td>2010-01/0001-03</td>\n",
       "      <td>2010-01-01</td>\n",
       "      <td>M</td>\n",
       "      <td>54</td>\n",
       "      <td>Europa</td>\n",
       "      <td>España</td>\n",
       "      <td>Comunidad Valenciana</td>\n",
       "      <td>Pie</td>\n",
       "      <td>Religioso</td>\n",
       "      <td>Frances-Camino de</td>\n",
       "      <td>Ponferrada</td>\n",
       "      <td>Liberales</td>\n",
       "    </tr>\n",
       "    <tr>\n",
       "      <th>3</th>\n",
       "      <td>2010-01/0001-04</td>\n",
       "      <td>2010-01-01</td>\n",
       "      <td>F</td>\n",
       "      <td>44</td>\n",
       "      <td>Europa</td>\n",
       "      <td>España</td>\n",
       "      <td>Comunidad Valenciana</td>\n",
       "      <td>Pie</td>\n",
       "      <td>Religioso</td>\n",
       "      <td>Frances-Camino de</td>\n",
       "      <td>Ponferrada</td>\n",
       "      <td>Tecnicos</td>\n",
       "    </tr>\n",
       "    <tr>\n",
       "      <th>4</th>\n",
       "      <td>2010-01/0001-05</td>\n",
       "      <td>2010-01-01</td>\n",
       "      <td>F</td>\n",
       "      <td>64</td>\n",
       "      <td>Europa</td>\n",
       "      <td>Alemania</td>\n",
       "      <td>NaN</td>\n",
       "      <td>Pie</td>\n",
       "      <td>Religioso</td>\n",
       "      <td>Frances-Camino de</td>\n",
       "      <td>Astorga</td>\n",
       "      <td>Empleados</td>\n",
       "    </tr>\n",
       "  </tbody>\n",
       "</table>\n",
       "</div>"
      ],
      "text/plain": [
       "           Entrada       Fecha Sexo  Edad Continente      Pais  \\\n",
       "0  2010-01/0001-01  2010-01-01    M    58     Europa    España   \n",
       "1  2010-01/0001-02  2010-01-01    M    62     Europa    España   \n",
       "2  2010-01/0001-03  2010-01-01    M    54     Europa    España   \n",
       "3  2010-01/0001-04  2010-01-01    F    44     Europa    España   \n",
       "4  2010-01/0001-05  2010-01-01    F    64     Europa  Alemania   \n",
       "\n",
       "              Autonomia      Medio     Motivo             Camino  \\\n",
       "0             Cantabria  Bicicleta  Religioso    Norte-Camino de   \n",
       "1              La Rioja        Pie  Religioso  Frances-Camino de   \n",
       "2  Comunidad Valenciana        Pie  Religioso  Frances-Camino de   \n",
       "3  Comunidad Valenciana        Pie  Religioso  Frances-Camino de   \n",
       "4                   NaN        Pie  Religioso  Frances-Camino de   \n",
       "\n",
       "            Origen  Profesion  \n",
       "0  Resto Cantabria  Jubilados  \n",
       "1           Sarria  Jubilados  \n",
       "2       Ponferrada  Liberales  \n",
       "3       Ponferrada   Tecnicos  \n",
       "4          Astorga  Empleados  "
      ]
     },
     "execution_count": 31,
     "metadata": {},
     "output_type": "execute_result"
    }
   ],
   "source": [
    "entries.head()"
   ]
  },
  {
   "cell_type": "code",
   "execution_count": 32,
   "id": "f56395ed",
   "metadata": {},
   "outputs": [
    {
     "data": {
      "text/plain": [
       "Entrada       object\n",
       "Fecha         object\n",
       "Sexo          object\n",
       "Edad           int64\n",
       "Continente    object\n",
       "Pais          object\n",
       "Autonomia     object\n",
       "Medio         object\n",
       "Motivo        object\n",
       "Camino        object\n",
       "Origen        object\n",
       "Profesion     object\n",
       "dtype: object"
      ]
     },
     "execution_count": 32,
     "metadata": {},
     "output_type": "execute_result"
    }
   ],
   "source": [
    "entries.dtypes"
   ]
  },
  {
   "cell_type": "code",
   "execution_count": 33,
   "id": "c1dd0414",
   "metadata": {},
   "outputs": [
    {
     "data": {
      "text/plain": [
       "<AxesSubplot:>"
      ]
     },
     "execution_count": 33,
     "metadata": {},
     "output_type": "execute_result"
    },
    {
     "data": {
      "image/png": "[encoded data removed]",
      "text/plain": [
       "<Figure size 640x480 with 1 Axes>"
      ]
     },
     "metadata": {},
     "output_type": "display_data"
    }
   ],
   "source": [
    "entries.Camino.hist()"
   ]
  },
  {
   "cell_type": "code",
   "execution_count": 34,
   "id": "5a563b29",
   "metadata": {},
   "outputs": [
    {
     "data": {
      "text/plain": [
       "Frances-Camino de           2029303\n",
       "Portugues-Camino             571649\n",
       "Norte-Camino de              193328\n",
       "Primitivo-Camino             138420\n",
       "Ingles-Camino                122620\n",
       "Via de la Plata              109504\n",
       "Costa Camino Portugues        92213\n",
       "Muxia-Finisterre              11076\n",
       "Otros caminos                 10201\n",
       "Invierno de Camino             7094\n",
       "Muros - Noia Camino            1257\n",
       "Camino del Barbanza             922\n",
       "Geira e Arrieiros               419\n",
       "Miñoto Ribeiro                  396\n",
       "Camino del Mar                  145\n",
       "Camino olvidado                  50\n",
       "San Salvador                     43\n",
       "Vía Céltica                       5\n",
       "San Rosendo                       5\n",
       "Name: Camino, dtype: int64"
      ]
     },
     "execution_count": 34,
     "metadata": {},
     "output_type": "execute_result"
    }
   ],
   "source": [
    "entries.Camino.value_counts()"
   ]
  },
  {
   "cell_type": "code",
   "execution_count": null,
   "id": "c7870cce",
   "metadata": {},
   "outputs": [],
   "source": []
  },
  {
   "cell_type": "code",
   "execution_count": null,
   "id": "025f4c8c",
   "metadata": {},
   "outputs": [],
   "source": []
  }
 ],
 "metadata": {
  "kernelspec": {
   "display_name": "Python 3 (ipykernel)",
   "language": "python",
   "name": "python3"
  },
  "language_info": {
   "codemirror_mode": {
    "name": "ipython",
    "version": 3
   },
   "file_extension": ".py",
   "mimetype": "text/x-python",
   "name": "python",
   "nbconvert_exporter": "python",
   "pygments_lexer": "ipython3",
   "version": "3.9.13"
  }
 },
 "nbformat": 4,
 "nbformat_minor": 5
}

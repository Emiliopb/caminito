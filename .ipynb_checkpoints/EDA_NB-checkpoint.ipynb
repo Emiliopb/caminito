{
 "cells": [
  {
   "cell_type": "markdown",
   "id": "e9824e4d",
   "metadata": {},
   "source": [
    "# Notebook de Exploratory Data Analysis \n",
    "\n",
    "En este notebook haremos las primeras graficas de los datos\n"
   ]
  },
  {
   "cell_type": "markdown",
   "id": "00185dbc",
   "metadata": {},
   "source": [
    "## Importamos todas las librerias que utilizaremos para explorar y visualizar "
   ]
  },
  {
   "cell_type": "code",
   "execution_count": 10,
   "id": "4fb23e53",
   "metadata": {},
   "outputs": [],
   "source": [
    "import pandas as pd "
   ]
  },
  {
   "cell_type": "markdown",
   "id": "e46c3a75",
   "metadata": {},
   "source": [
    "## Ordenamos los datos"
   ]
  },
  {
   "cell_type": "code",
   "execution_count": 3,
   "id": "4bc61d26",
   "metadata": {},
   "outputs": [],
   "source": [
    "entries = pd.read_csv('Treated_csv/entries_all.csv')"
   ]
  },
  {
   "cell_type": "code",
   "execution_count": 6,
   "id": "0bc2cbef",
   "metadata": {},
   "outputs": [],
   "source": [
    "entries = entries.sort_values(by= 'Fecha', ascending=True)\n",
    "entries = entries.sort_values(by= 'Entrada', ascending=True)"
   ]
  },
  {
   "cell_type": "code",
   "execution_count": 9,
   "id": "6a439647",
   "metadata": {},
   "outputs": [
    {
     "data": {
      "text/html": [
       "<div>\n",
       "<style scoped>\n",
       "    .dataframe tbody tr th:only-of-type {\n",
       "        vertical-align: middle;\n",
       "    }\n",
       "\n",
       "    .dataframe tbody tr th {\n",
       "        vertical-align: top;\n",
       "    }\n",
       "\n",
       "    .dataframe thead th {\n",
       "        text-align: right;\n",
       "    }\n",
       "</style>\n",
       "<table border=\"1\" class=\"dataframe\">\n",
       "  <thead>\n",
       "    <tr style=\"text-align: right;\">\n",
       "      <th></th>\n",
       "      <th>Unnamed: 0</th>\n",
       "      <th>Entrada</th>\n",
       "      <th>Fecha</th>\n",
       "      <th>Sexo</th>\n",
       "      <th>Edad</th>\n",
       "      <th>Continente</th>\n",
       "      <th>Pais</th>\n",
       "      <th>Autonomia</th>\n",
       "      <th>Medio</th>\n",
       "      <th>Motivo</th>\n",
       "      <th>Camino</th>\n",
       "      <th>Origen</th>\n",
       "      <th>Profesion</th>\n",
       "    </tr>\n",
       "  </thead>\n",
       "  <tbody>\n",
       "    <tr>\n",
       "      <th>995165</th>\n",
       "      <td>0</td>\n",
       "      <td>2010-01/0001-01</td>\n",
       "      <td>2010-01-01</td>\n",
       "      <td>M</td>\n",
       "      <td>58</td>\n",
       "      <td>Europa</td>\n",
       "      <td>España</td>\n",
       "      <td>Cantabria</td>\n",
       "      <td>Bicicleta</td>\n",
       "      <td>Religioso</td>\n",
       "      <td>Norte-Camino de</td>\n",
       "      <td>Resto Cantabria</td>\n",
       "      <td>Jubilados</td>\n",
       "    </tr>\n",
       "    <tr>\n",
       "      <th>995167</th>\n",
       "      <td>2</td>\n",
       "      <td>2010-01/0001-02</td>\n",
       "      <td>2010-01-01</td>\n",
       "      <td>M</td>\n",
       "      <td>62</td>\n",
       "      <td>Europa</td>\n",
       "      <td>España</td>\n",
       "      <td>La Rioja</td>\n",
       "      <td>Pie</td>\n",
       "      <td>Religioso</td>\n",
       "      <td>Frances-Camino de</td>\n",
       "      <td>Sarria</td>\n",
       "      <td>Jubilados</td>\n",
       "    </tr>\n",
       "    <tr>\n",
       "      <th>995172</th>\n",
       "      <td>7</td>\n",
       "      <td>2010-01/0001-03</td>\n",
       "      <td>2010-01-01</td>\n",
       "      <td>M</td>\n",
       "      <td>54</td>\n",
       "      <td>Europa</td>\n",
       "      <td>España</td>\n",
       "      <td>Comunidad Valenciana</td>\n",
       "      <td>Pie</td>\n",
       "      <td>Religioso</td>\n",
       "      <td>Frances-Camino de</td>\n",
       "      <td>Ponferrada</td>\n",
       "      <td>Liberales</td>\n",
       "    </tr>\n",
       "    <tr>\n",
       "      <th>995186</th>\n",
       "      <td>21</td>\n",
       "      <td>2010-01/0001-04</td>\n",
       "      <td>2010-01-01</td>\n",
       "      <td>F</td>\n",
       "      <td>44</td>\n",
       "      <td>Europa</td>\n",
       "      <td>España</td>\n",
       "      <td>Comunidad Valenciana</td>\n",
       "      <td>Pie</td>\n",
       "      <td>Religioso</td>\n",
       "      <td>Frances-Camino de</td>\n",
       "      <td>Ponferrada</td>\n",
       "      <td>Tecnicos</td>\n",
       "    </tr>\n",
       "    <tr>\n",
       "      <th>995187</th>\n",
       "      <td>22</td>\n",
       "      <td>2010-01/0001-05</td>\n",
       "      <td>2010-01-01</td>\n",
       "      <td>F</td>\n",
       "      <td>64</td>\n",
       "      <td>Europa</td>\n",
       "      <td>Alemania</td>\n",
       "      <td>NaN</td>\n",
       "      <td>Pie</td>\n",
       "      <td>Religioso</td>\n",
       "      <td>Frances-Camino de</td>\n",
       "      <td>Astorga</td>\n",
       "      <td>Empleados</td>\n",
       "    </tr>\n",
       "  </tbody>\n",
       "</table>\n",
       "</div>"
      ],
      "text/plain": [
       "        Unnamed: 0          Entrada       Fecha Sexo  Edad Continente  \\\n",
       "995165           0  2010-01/0001-01  2010-01-01    M    58     Europa   \n",
       "995167           2  2010-01/0001-02  2010-01-01    M    62     Europa   \n",
       "995172           7  2010-01/0001-03  2010-01-01    M    54     Europa   \n",
       "995186          21  2010-01/0001-04  2010-01-01    F    44     Europa   \n",
       "995187          22  2010-01/0001-05  2010-01-01    F    64     Europa   \n",
       "\n",
       "            Pais             Autonomia      Medio     Motivo  \\\n",
       "995165    España             Cantabria  Bicicleta  Religioso   \n",
       "995167    España              La Rioja        Pie  Religioso   \n",
       "995172    España  Comunidad Valenciana        Pie  Religioso   \n",
       "995186    España  Comunidad Valenciana        Pie  Religioso   \n",
       "995187  Alemania                   NaN        Pie  Religioso   \n",
       "\n",
       "                   Camino           Origen  Profesion  \n",
       "995165    Norte-Camino de  Resto Cantabria  Jubilados  \n",
       "995167  Frances-Camino de           Sarria  Jubilados  \n",
       "995172  Frances-Camino de       Ponferrada  Liberales  \n",
       "995186  Frances-Camino de       Ponferrada   Tecnicos  \n",
       "995187  Frances-Camino de          Astorga  Empleados  "
      ]
     },
     "execution_count": 9,
     "metadata": {},
     "output_type": "execute_result"
    }
   ],
   "source": [
    "entries.head()"
   ]
  },
  {
   "cell_type": "code",
   "execution_count": null,
   "id": "faac9f98",
   "metadata": {},
   "outputs": [],
   "source": []
  }
 ],
 "metadata": {
  "kernelspec": {
   "display_name": "Python 3 (ipykernel)",
   "language": "python",
   "name": "python3"
  },
  "language_info": {
   "codemirror_mode": {
    "name": "ipython",
    "version": 3
   },
   "file_extension": ".py",
   "mimetype": "text/x-python",
   "name": "python",
   "nbconvert_exporter": "python",
   "pygments_lexer": "ipython3",
   "version": "3.9.13"
  }
 },
 "nbformat": 4,
 "nbformat_minor": 5
}

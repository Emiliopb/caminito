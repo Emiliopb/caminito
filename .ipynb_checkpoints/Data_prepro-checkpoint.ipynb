{
 "cells": [
  {
   "cell_type": "markdown",
   "id": "50bc78cd",
   "metadata": {},
   "source": [
    "# Data Pre procesing"
   ]
  },
  {
   "cell_type": "markdown",
   "id": "1e945e25",
   "metadata": {},
   "source": [
    "## Objetivos \n",
    "\n",
    "El objetivo de este Notebook sera preprocesar los distintos csv de las entradas del camino y generar un solo csv desde el que haremos el EDA"
   ]
  },
  {
   "cell_type": "code",
   "execution_count": 1,
   "id": "33b63dbf",
   "metadata": {},
   "outputs": [],
   "source": [
    "import pandas as pd\n",
    "from pathlib import Path\n",
    "import glob"
   ]
  },
  {
   "cell_type": "code",
   "execution_count": 2,
   "id": "ea1a5c20",
   "metadata": {},
   "outputs": [],
   "source": [
    "entries_all = pd.DataFrame()"
   ]
  },
  {
   "cell_type": "code",
   "execution_count": null,
   "id": "37c0bfd3",
   "metadata": {},
   "outputs": [
    {
     "name": "stdout",
     "output_type": "stream",
     "text": [
      "raw_csv_per_year/2021.xlsx\n",
      "raw_csv_per_year/2017.xlsx\n",
      "raw_csv_per_year/2016.xlsx\n",
      "raw_csv_per_year/2020.xlsx\n",
      "raw_csv_per_year/2011.xlsx\n"
     ]
    }
   ],
   "source": [
    "for excel_file in Path('./raw_csv_per_year').glob('*.xlsx'):\n",
    "    conc = pd.read_excel(excel_file)\n",
    "    \n",
    "    entries_all = pd.concat([entries_all,conc])\n",
    "    print(excel_file)\n",
    "entries_all"
   ]
  },
  {
   "cell_type": "code",
   "execution_count": null,
   "id": "46b192d2",
   "metadata": {},
   "outputs": [],
   "source": [
    "entries_all.sort_values(by= 'Fecha', ascending=True)"
   ]
  },
  {
   "cell_type": "code",
   "execution_count": null,
   "id": "6328142d",
   "metadata": {},
   "outputs": [],
   "source": [
    "entries_all.sort_values(by= 'Entrada', ascending=True)"
   ]
  },
  {
   "cell_type": "code",
   "execution_count": null,
   "id": "d094da5e",
   "metadata": {},
   "outputs": [],
   "source": [
    "filepath = Path('Treated_csv/entries_all.csv')  \n",
    "filepath.parent.mkdir(parents=True, exist_ok=True)  \n",
    "entries_all.to_csv(filepath)\n"
   ]
  },
  {
   "cell_type": "code",
   "execution_count": null,
   "id": "69faf006",
   "metadata": {},
   "outputs": [],
   "source": []
  },
  {
   "cell_type": "code",
   "execution_count": null,
   "id": "cbdbab00",
   "metadata": {},
   "outputs": [],
   "source": []
  }
 ],
 "metadata": {
  "kernelspec": {
   "display_name": "Python 3 (ipykernel)",
   "language": "python",
   "name": "python3"
  },
  "language_info": {
   "codemirror_mode": {
    "name": "ipython",
    "version": 3
   },
   "file_extension": ".py",
   "mimetype": "text/x-python",
   "name": "python",
   "nbconvert_exporter": "python",
   "pygments_lexer": "ipython3",
   "version": "3.9.13"
  }
 },
 "nbformat": 4,
 "nbformat_minor": 5
}
